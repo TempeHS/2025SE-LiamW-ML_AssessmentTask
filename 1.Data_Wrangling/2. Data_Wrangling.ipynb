{
 "cells": [
  {
   "cell_type": "markdown",
   "metadata": {},
   "source": [
    "# Data Wrangling "
   ]
  },
  {
   "cell_type": "markdown",
   "metadata": {},
   "source": [
    "- Shows the use of Pandas library for data analysis and manipulation\n",
    "- Preparing Data for Feature Engineering\n",
    "- Removing Outliers and Scaling Data\n",
    "- These processes will NOT damage your original data if you save changes to a new data file"
   ]
  },
  {
   "cell_type": "markdown",
   "metadata": {},
   "source": [
    "Loading Dependencies"
   ]
  },
  {
   "cell_type": "code",
   "execution_count": 1,
   "metadata": {},
   "outputs": [],
   "source": [
    "import pandas as pd\n",
    "from sklearn.preprocessing import MinMaxScaler\n",
    "import numpy"
   ]
  },
  {
   "cell_type": "markdown",
   "metadata": {},
   "source": [
    "Storing Data as local variable (pandas object)"
   ]
  },
  {
   "cell_type": "code",
   "execution_count": 2,
   "metadata": {},
   "outputs": [],
   "source": [
    "data_frame = pd.read_csv(\"vgsales.csv\")"
   ]
  },
  {
   "cell_type": "markdown",
   "metadata": {},
   "source": [
    "### Handling Null Values\n",
    "\n",
    "- Dealing will null values will stop them from causing runtime errors or unexpected results\n",
    "- Dealing with them appropiately will ensure no biases in the data from this correction"
   ]
  },
  {
   "cell_type": "markdown",
   "metadata": {},
   "source": [
    "Returning the number of null values for each column"
   ]
  },
  {
   "cell_type": "code",
   "execution_count": 3,
   "metadata": {},
   "outputs": [
    {
     "data": {
      "text/plain": [
       "Rank              0\n",
       "Name              0\n",
       "Platform          0\n",
       "Year            271\n",
       "Genre             0\n",
       "Publisher        58\n",
       "NA_Sales          0\n",
       "EU_Sales          0\n",
       "JP_Sales          0\n",
       "Other_Sales       0\n",
       "Global_Sales      0\n",
       "dtype: int64"
      ]
     },
     "execution_count": 3,
     "metadata": {},
     "output_type": "execute_result"
    }
   ],
   "source": [
    "data_frame.isnull().sum()"
   ]
  },
  {
   "cell_type": "markdown",
   "metadata": {},
   "source": [
    "##### Evaluation\n",
    "- there is a considerable amount of data points missing year data the key feature in the model\n",
    "- there is also a some games lacking publishers another features being incoporated in the model\n",
    "- need to find where the data is located to ensure there isn't bias created from removing the data"
   ]
  },
  {
   "cell_type": "markdown",
   "metadata": {},
   "source": [
    "showing the data entries with null values:"
   ]
  },
  {
   "cell_type": "code",
   "execution_count": 4,
   "metadata": {},
   "outputs": [
    {
     "name": "stdout",
     "output_type": "stream",
     "text": [
      "        Rank                             Name Platform    Year         Genre  \\\n",
      "179      180                  Madden NFL 2004      PS2     NaN        Sports   \n",
      "377      378                 FIFA Soccer 2004      PS2     NaN        Sports   \n",
      "431      432       LEGO Batman: The Videogame      Wii     NaN        Action   \n",
      "470      471       wwe Smackdown vs. Raw 2006      PS2     NaN      Fighting   \n",
      "607      608                   Space Invaders     2600     NaN       Shooter   \n",
      "...      ...                              ...      ...     ...           ...   \n",
      "16427  16430                     Virtua Quest       GC     NaN  Role-Playing   \n",
      "16493  16496                       The Smurfs      3DS     NaN        Action   \n",
      "16494  16497  Legends of Oz: Dorothy's Return      3DS  2014.0        Puzzle   \n",
      "16543  16546           Driving Simulator 2011       PC  2011.0        Racing   \n",
      "16553  16556                   Bound By Flame     X360  2014.0  Role-Playing   \n",
      "\n",
      "                                    Publisher  NA_Sales  EU_Sales  JP_Sales  \\\n",
      "179                           Electronic Arts      4.26      0.26      0.01   \n",
      "377                           Electronic Arts      0.59      2.36      0.04   \n",
      "431    Warner Bros. Interactive Entertainment      1.86      1.02      0.00   \n",
      "470                                       NaN      1.57      1.02      0.00   \n",
      "607                                     Atari      2.36      0.14      0.00   \n",
      "...                                       ...       ...       ...       ...   \n",
      "16427                                 Unknown      0.01      0.00      0.00   \n",
      "16493                                 Unknown      0.00      0.01      0.00   \n",
      "16494                                     NaN      0.00      0.01      0.00   \n",
      "16543                                     NaN      0.00      0.01      0.00   \n",
      "16553                                     NaN      0.00      0.01      0.00   \n",
      "\n",
      "       Other_Sales  Global_Sales  \n",
      "179           0.71          5.23  \n",
      "377           0.51          3.49  \n",
      "431           0.29          3.17  \n",
      "470           0.41          3.00  \n",
      "607           0.03          2.53  \n",
      "...            ...           ...  \n",
      "16427         0.00          0.01  \n",
      "16493         0.00          0.01  \n",
      "16494         0.00          0.01  \n",
      "16543         0.00          0.01  \n",
      "16553         0.00          0.01  \n",
      "\n",
      "[307 rows x 11 columns]\n"
     ]
    }
   ],
   "source": [
    "\n",
    "null_mask = data_frame.isnull().any(axis=1)\n",
    "null_rows = data_frame[null_mask]\n",
    "print(null_rows)\n"
   ]
  },
  {
   "cell_type": "code",
   "execution_count": 5,
   "metadata": {},
   "outputs": [
    {
     "name": "stdout",
     "output_type": "stream",
     "text": [
      "179        180\n",
      "377        378\n",
      "431        432\n",
      "470        471\n",
      "607        608\n",
      "         ...  \n",
      "16427    16430\n",
      "16493    16496\n",
      "16494    16497\n",
      "16543    16546\n",
      "16553    16556\n",
      "Name: Rank, Length: 307, dtype: int64\n",
      "4716.305524906458\n"
     ]
    }
   ],
   "source": [
    "nullist = null_rows.Rank\n",
    "print(nullist)\n",
    "print(numpy.std(nullist))"
   ]
  },
  {
   "cell_type": "markdown",
   "metadata": {},
   "source": [
    "Decision/Evaluation:\n",
    "- The null data is spread out far enough and evenly enough to justify just removing the data without years and publishers\n",
    "- I noticed that there are the same game on different consoles as different data points"
   ]
  },
  {
   "cell_type": "code",
   "execution_count": 6,
   "metadata": {},
   "outputs": [
    {
     "data": {
      "text/plain": [
       "Rank              0\n",
       "Name              0\n",
       "Platform          0\n",
       "Year            249\n",
       "Genre             0\n",
       "Publisher         0\n",
       "NA_Sales          0\n",
       "EU_Sales          0\n",
       "JP_Sales          0\n",
       "Other_Sales       0\n",
       "Global_Sales      0\n",
       "dtype: int64"
      ]
     },
     "execution_count": 6,
     "metadata": {},
     "output_type": "execute_result"
    }
   ],
   "source": [
    "data_frame = data_frame.dropna(subset=['Publisher'])\n",
    "data_frame.isnull().sum()"
   ]
  },
  {
   "cell_type": "markdown",
   "metadata": {},
   "source": [
    "Years will be treated as more categorical data rather than numerical. This will avoid the common practice of taking the average of the column for that data and all the potential biases and skews this could cause when applying it to years. This data will just be removed for this model since it is a small amount of data."
   ]
  },
  {
   "cell_type": "code",
   "execution_count": 7,
   "metadata": {},
   "outputs": [
    {
     "data": {
      "text/plain": [
       "Rank            0\n",
       "Name            0\n",
       "Platform        0\n",
       "Year            0\n",
       "Genre           0\n",
       "Publisher       0\n",
       "NA_Sales        0\n",
       "EU_Sales        0\n",
       "JP_Sales        0\n",
       "Other_Sales     0\n",
       "Global_Sales    0\n",
       "dtype: int64"
      ]
     },
     "execution_count": 7,
     "metadata": {},
     "output_type": "execute_result"
    }
   ],
   "source": [
    "data_frame = data_frame.dropna(subset=['Year'])\n",
    "data_frame.isnull().sum()"
   ]
  },
  {
   "cell_type": "markdown",
   "metadata": {},
   "source": [
    "### Duplicates\n",
    "\n",
    "Duplicate Data will have significant effects on the model and often lead to over or under fitting in the resulting model. Deleting these points will avoid this"
   ]
  },
  {
   "cell_type": "code",
   "execution_count": 8,
   "metadata": {},
   "outputs": [
    {
     "data": {
      "text/plain": [
       "np.int64(0)"
      ]
     },
     "execution_count": 8,
     "metadata": {},
     "output_type": "execute_result"
    }
   ],
   "source": [
    "data_frame.duplicated().sum()"
   ]
  },
  {
   "cell_type": "markdown",
   "metadata": {},
   "source": [
    "There is no duplicate data so this process is complete."
   ]
  },
  {
   "cell_type": "markdown",
   "metadata": {},
   "source": [
    "### Remove Outliers\n",
    "\n",
    "Outlier will skew data. This remove them, the use of the statistical math definition of outliers will work. Find the IQR by finding Quartile 1 and Quartile 3 and then formula for finding outliers will be applied to it where it is 1.5 * IQR above or below Q1 or Q3 respectively."
   ]
  },
  {
   "cell_type": "markdown",
   "metadata": {},
   "source": [
    "Global_Sales Outliers Removal"
   ]
  },
  {
   "cell_type": "code",
   "execution_count": 9,
   "metadata": {},
   "outputs": [
    {
     "name": "stdout",
     "output_type": "stream",
     "text": [
      "count    16291.000000\n",
      "mean         0.540910\n",
      "std          1.567345\n",
      "min          0.010000\n",
      "25%          0.060000\n",
      "50%          0.170000\n",
      "75%          0.480000\n",
      "max         82.740000\n",
      "Name: Global_Sales, dtype: float64\n",
      "Outliers are a Global_Sales above 1.1099999999999999 or below -0.5700000000000001\n"
     ]
    }
   ],
   "source": [
    "print(data_frame['Global_Sales'].describe())\n",
    "Q1 = data_frame['Global_Sales'].quantile(0.25)\n",
    "Q3 = data_frame['Global_Sales'].quantile(0.75)\n",
    "IQR = Q3 - Q1\n",
    "print(f'Outliers are a Global_Sales above {Q3 + IQR * 1.5} or below {Q1 - IQR * 1.5}')"
   ]
  },
  {
   "cell_type": "markdown",
   "metadata": {},
   "source": [
    "Removing the outliers"
   ]
  },
  {
   "cell_type": "code",
   "execution_count": 10,
   "metadata": {},
   "outputs": [
    {
     "name": "stdout",
     "output_type": "stream",
     "text": [
      "count    14465.000000\n",
      "mean         0.234321\n",
      "std          0.246890\n",
      "min          0.010000\n",
      "25%          0.050000\n",
      "50%          0.140000\n",
      "75%          0.330000\n",
      "max          1.100000\n",
      "Name: Global_Sales, dtype: float64\n"
     ]
    }
   ],
   "source": [
    "data_frame = data_frame[(data_frame['Global_Sales'] >= Q1 - 1.5 * IQR) & (data_frame['Global_Sales'] <= Q3 + 1.5 * IQR)]\n",
    "print(data_frame['Global_Sales'].describe())"
   ]
  },
  {
   "cell_type": "markdown",
   "metadata": {},
   "source": [
    "Removing outliers for all other sales"
   ]
  },
  {
   "cell_type": "code",
   "execution_count": 11,
   "metadata": {},
   "outputs": [
    {
     "name": "stdout",
     "output_type": "stream",
     "text": [
      "count    14465.000000\n",
      "mean         0.116525\n",
      "std          0.154818\n",
      "min          0.000000\n",
      "25%          0.000000\n",
      "50%          0.060000\n",
      "75%          0.160000\n",
      "max          1.030000\n",
      "Name: NA_Sales, dtype: float64\n",
      "Outliers are a NA_Sales above 0.4 or below -0.24\n",
      "count    13529.000000\n",
      "mean         0.086277\n",
      "std          0.101064\n",
      "min          0.000000\n",
      "25%          0.000000\n",
      "50%          0.050000\n",
      "75%          0.140000\n",
      "max          0.400000\n",
      "Name: NA_Sales, dtype: float64\n"
     ]
    }
   ],
   "source": [
    "print(data_frame['NA_Sales'].describe())\n",
    "Q1 = data_frame['NA_Sales'].quantile(0.25)\n",
    "Q3 = data_frame['NA_Sales'].quantile(0.75)\n",
    "IQR = Q3 - Q1\n",
    "print(f'Outliers are a NA_Sales above {Q3 + IQR * 1.5} or below {Q1 - IQR * 1.5}')\n",
    "data_frame = data_frame[(data_frame['NA_Sales'] >= Q1 - 1.5 * IQR) & (data_frame['NA_Sales'] <= Q3 + 1.5 * IQR)]\n",
    "print(data_frame['NA_Sales'].describe())"
   ]
  },
  {
   "cell_type": "code",
   "execution_count": 12,
   "metadata": {},
   "outputs": [
    {
     "name": "stdout",
     "output_type": "stream",
     "text": [
      "count    13529.000000\n",
      "mean         0.050366\n",
      "std          0.090539\n",
      "min          0.000000\n",
      "25%          0.000000\n",
      "50%          0.010000\n",
      "75%          0.060000\n",
      "max          0.980000\n",
      "Name: EU_Sales, dtype: float64\n",
      "Outliers are a EU_Sales above 0.15 or below -0.09\n",
      "count    12222.000000\n",
      "mean         0.026486\n",
      "std          0.037025\n",
      "min          0.000000\n",
      "25%          0.000000\n",
      "50%          0.010000\n",
      "75%          0.040000\n",
      "max          0.150000\n",
      "Name: EU_Sales, dtype: float64\n"
     ]
    }
   ],
   "source": [
    "print(data_frame['EU_Sales'].describe())\n",
    "Q1 = data_frame['EU_Sales'].quantile(0.25)\n",
    "Q3 = data_frame['EU_Sales'].quantile(0.75)\n",
    "IQR = Q3 - Q1\n",
    "print(f'Outliers are a EU_Sales above {Q3 + IQR * 1.5} or below {Q1 - IQR * 1.5}')\n",
    "data_frame = data_frame[(data_frame['EU_Sales'] >= Q1 - 1.5 * IQR) & (data_frame['EU_Sales'] <= Q3 + 1.5 * IQR)]\n",
    "print(data_frame['EU_Sales'].describe())"
   ]
  },
  {
   "cell_type": "code",
   "execution_count": 13,
   "metadata": {},
   "outputs": [
    {
     "name": "stdout",
     "output_type": "stream",
     "text": [
      "count    12222.000000\n",
      "mean         0.044789\n",
      "std          0.110776\n",
      "min          0.000000\n",
      "25%          0.000000\n",
      "50%          0.000000\n",
      "75%          0.030000\n",
      "max          1.100000\n",
      "Name: JP_Sales, dtype: float64\n",
      "Outliers are a JP_Sales above 0.075 or below -0.045\n",
      "count    10229.000000\n",
      "mean         0.007943\n",
      "std          0.016881\n",
      "min          0.000000\n",
      "25%          0.000000\n",
      "50%          0.000000\n",
      "75%          0.000000\n",
      "max          0.070000\n",
      "Name: JP_Sales, dtype: float64\n"
     ]
    }
   ],
   "source": [
    "print(data_frame['JP_Sales'].describe())\n",
    "Q1 = data_frame['JP_Sales'].quantile(0.25)\n",
    "Q3 = data_frame['JP_Sales'].quantile(0.75)\n",
    "IQR = Q3 - Q1\n",
    "print(f'Outliers are a JP_Sales above {Q3 + IQR * 1.5} or below {Q1 - IQR * 1.5}')\n",
    "data_frame = data_frame[(data_frame['JP_Sales'] >= Q1 - 1.5 * IQR) & (data_frame['JP_Sales'] <= Q3 + 1.5 * IQR)]\n",
    "print(data_frame['JP_Sales'].describe())"
   ]
  },
  {
   "cell_type": "code",
   "execution_count": 14,
   "metadata": {},
   "outputs": [
    {
     "name": "stdout",
     "output_type": "stream",
     "text": [
      "count    10229.000000\n",
      "mean         0.010789\n",
      "std          0.025882\n",
      "min          0.000000\n",
      "25%          0.000000\n",
      "50%          0.010000\n",
      "75%          0.010000\n",
      "max          0.740000\n",
      "Name: Other_Sales, dtype: float64\n",
      "Outliers are a Other_Sales above 0.025 or below -0.015\n",
      "count    9092.000000\n",
      "mean        0.005863\n",
      "std         0.007105\n",
      "min         0.000000\n",
      "25%         0.000000\n",
      "50%         0.000000\n",
      "75%         0.010000\n",
      "max         0.020000\n",
      "Name: Other_Sales, dtype: float64\n"
     ]
    }
   ],
   "source": [
    "print(data_frame['Other_Sales'].describe())\n",
    "Q1 = data_frame['Other_Sales'].quantile(0.25)\n",
    "Q3 = data_frame['Other_Sales'].quantile(0.75)\n",
    "IQR = Q3 - Q1\n",
    "print(f'Outliers are a Other_Sales above {Q3 + IQR * 1.5} or below {Q1 - IQR * 1.5}')\n",
    "data_frame = data_frame[(data_frame['Other_Sales'] >= Q1 - 1.5 * IQR) & (data_frame['Other_Sales'] <= Q3 + 1.5 * IQR)]\n",
    "print(data_frame['Other_Sales'].describe())"
   ]
  },
  {
   "cell_type": "markdown",
   "metadata": {},
   "source": [
    "#### Scaling Features to Common Range\n",
    "scaling features to a set range makes it much easier for all ML algorithms as differing scales wouldn't end up effecting the process"
   ]
  },
  {
   "cell_type": "markdown",
   "metadata": {},
   "source": [
    "The choose to use 1.2 to scale Global_Sales is based on the data set after removing outliers. This is done to keep the proportions between data columns the same. With doing another trial with independent column scaling the model became much more inaccurate leading to the unified scaling of all sales."
   ]
  },
  {
   "cell_type": "code",
   "execution_count": 15,
   "metadata": {},
   "outputs": [
    {
     "data": {
      "application/vnd.microsoft.datawrangler.viewer.v0+json": {
       "columns": [
        {
         "name": "index",
         "rawType": "object",
         "type": "string"
        },
        {
         "name": "Rank",
         "rawType": "float64",
         "type": "float"
        },
        {
         "name": "Year",
         "rawType": "float64",
         "type": "float"
        },
        {
         "name": "NA_Sales",
         "rawType": "float64",
         "type": "float"
        },
        {
         "name": "EU_Sales",
         "rawType": "float64",
         "type": "float"
        },
        {
         "name": "JP_Sales",
         "rawType": "float64",
         "type": "float"
        },
        {
         "name": "Other_Sales",
         "rawType": "float64",
         "type": "float"
        },
        {
         "name": "Global_Sales",
         "rawType": "float64",
         "type": "float"
        }
       ],
       "conversionMethod": "pd.DataFrame",
       "ref": "233e4c62-d7c0-445d-b46b-7824762f011a",
       "rows": [
        [
         "count",
         "9092.0",
         "9092.0",
         "9092.0",
         "9092.0",
         "9092.0",
         "9092.0",
         "9092.0"
        ],
        [
         "mean",
         "11545.108007039154",
         "2006.8817641882974",
         "0.06683128024637043",
         "0.02173669159700836",
         "0.008358996920369555",
         "0.005863396392432908",
         "0.08616824314415604"
        ],
        [
         "std",
         "3223.89136644175",
         "5.187581276979776",
         "0.07910552719870109",
         "0.028975233298865928",
         "0.01720650531361495",
         "0.007104994891314851",
         "0.07911087780229087"
        ],
        [
         "min",
         "3565.0",
         "1980.0",
         "0.0",
         "0.0",
         "0.0",
         "0.0",
         "0.008333333333333333"
        ],
        [
         "25%",
         "9007.75",
         "2004.0",
         "0.0",
         "0.0",
         "0.0",
         "0.0",
         "0.025"
        ],
        [
         "50%",
         "11955.5",
         "2008.0",
         "0.04",
         "0.01",
         "0.0",
         "0.0",
         "0.05833333333333334"
        ],
        [
         "75%",
         "14269.25",
         "2010.0",
         "0.1",
         "0.03",
         "0.01",
         "0.01",
         "0.11666666666666668"
        ],
        [
         "max",
         "16600.0",
         "2020.0",
         "0.4",
         "0.15",
         "0.07",
         "0.02",
         "0.46666666666666673"
        ]
       ],
       "shape": {
        "columns": 7,
        "rows": 8
       }
      },
      "text/html": [
       "<div>\n",
       "<style scoped>\n",
       "    .dataframe tbody tr th:only-of-type {\n",
       "        vertical-align: middle;\n",
       "    }\n",
       "\n",
       "    .dataframe tbody tr th {\n",
       "        vertical-align: top;\n",
       "    }\n",
       "\n",
       "    .dataframe thead th {\n",
       "        text-align: right;\n",
       "    }\n",
       "</style>\n",
       "<table border=\"1\" class=\"dataframe\">\n",
       "  <thead>\n",
       "    <tr style=\"text-align: right;\">\n",
       "      <th></th>\n",
       "      <th>Rank</th>\n",
       "      <th>Year</th>\n",
       "      <th>NA_Sales</th>\n",
       "      <th>EU_Sales</th>\n",
       "      <th>JP_Sales</th>\n",
       "      <th>Other_Sales</th>\n",
       "      <th>Global_Sales</th>\n",
       "    </tr>\n",
       "  </thead>\n",
       "  <tbody>\n",
       "    <tr>\n",
       "      <th>count</th>\n",
       "      <td>9092.000000</td>\n",
       "      <td>9092.000000</td>\n",
       "      <td>9092.000000</td>\n",
       "      <td>9092.000000</td>\n",
       "      <td>9092.000000</td>\n",
       "      <td>9092.000000</td>\n",
       "      <td>9092.000000</td>\n",
       "    </tr>\n",
       "    <tr>\n",
       "      <th>mean</th>\n",
       "      <td>11545.108007</td>\n",
       "      <td>2006.881764</td>\n",
       "      <td>0.066831</td>\n",
       "      <td>0.021737</td>\n",
       "      <td>0.008359</td>\n",
       "      <td>0.005863</td>\n",
       "      <td>0.086168</td>\n",
       "    </tr>\n",
       "    <tr>\n",
       "      <th>std</th>\n",
       "      <td>3223.891366</td>\n",
       "      <td>5.187581</td>\n",
       "      <td>0.079106</td>\n",
       "      <td>0.028975</td>\n",
       "      <td>0.017207</td>\n",
       "      <td>0.007105</td>\n",
       "      <td>0.079111</td>\n",
       "    </tr>\n",
       "    <tr>\n",
       "      <th>min</th>\n",
       "      <td>3565.000000</td>\n",
       "      <td>1980.000000</td>\n",
       "      <td>0.000000</td>\n",
       "      <td>0.000000</td>\n",
       "      <td>0.000000</td>\n",
       "      <td>0.000000</td>\n",
       "      <td>0.008333</td>\n",
       "    </tr>\n",
       "    <tr>\n",
       "      <th>25%</th>\n",
       "      <td>9007.750000</td>\n",
       "      <td>2004.000000</td>\n",
       "      <td>0.000000</td>\n",
       "      <td>0.000000</td>\n",
       "      <td>0.000000</td>\n",
       "      <td>0.000000</td>\n",
       "      <td>0.025000</td>\n",
       "    </tr>\n",
       "    <tr>\n",
       "      <th>50%</th>\n",
       "      <td>11955.500000</td>\n",
       "      <td>2008.000000</td>\n",
       "      <td>0.040000</td>\n",
       "      <td>0.010000</td>\n",
       "      <td>0.000000</td>\n",
       "      <td>0.000000</td>\n",
       "      <td>0.058333</td>\n",
       "    </tr>\n",
       "    <tr>\n",
       "      <th>75%</th>\n",
       "      <td>14269.250000</td>\n",
       "      <td>2010.000000</td>\n",
       "      <td>0.100000</td>\n",
       "      <td>0.030000</td>\n",
       "      <td>0.010000</td>\n",
       "      <td>0.010000</td>\n",
       "      <td>0.116667</td>\n",
       "    </tr>\n",
       "    <tr>\n",
       "      <th>max</th>\n",
       "      <td>16600.000000</td>\n",
       "      <td>2020.000000</td>\n",
       "      <td>0.400000</td>\n",
       "      <td>0.150000</td>\n",
       "      <td>0.070000</td>\n",
       "      <td>0.020000</td>\n",
       "      <td>0.466667</td>\n",
       "    </tr>\n",
       "  </tbody>\n",
       "</table>\n",
       "</div>"
      ],
      "text/plain": [
       "               Rank         Year     NA_Sales     EU_Sales     JP_Sales  \\\n",
       "count   9092.000000  9092.000000  9092.000000  9092.000000  9092.000000   \n",
       "mean   11545.108007  2006.881764     0.066831     0.021737     0.008359   \n",
       "std     3223.891366     5.187581     0.079106     0.028975     0.017207   \n",
       "min     3565.000000  1980.000000     0.000000     0.000000     0.000000   \n",
       "25%     9007.750000  2004.000000     0.000000     0.000000     0.000000   \n",
       "50%    11955.500000  2008.000000     0.040000     0.010000     0.000000   \n",
       "75%    14269.250000  2010.000000     0.100000     0.030000     0.010000   \n",
       "max    16600.000000  2020.000000     0.400000     0.150000     0.070000   \n",
       "\n",
       "       Other_Sales  Global_Sales  \n",
       "count  9092.000000   9092.000000  \n",
       "mean      0.005863      0.086168  \n",
       "std       0.007105      0.079111  \n",
       "min       0.000000      0.008333  \n",
       "25%       0.000000      0.025000  \n",
       "50%       0.000000      0.058333  \n",
       "75%       0.010000      0.116667  \n",
       "max       0.020000      0.466667  "
      ]
     },
     "execution_count": 15,
     "metadata": {},
     "output_type": "execute_result"
    }
   ],
   "source": [
    "scale_feature = 'Global_Sales'\n",
    "\n",
    "#the minimum value with space for outliers\n",
    "MIN_GS = 0\n",
    "\n",
    "#the maximum value with space for outliers\n",
    "MAX_GS = 1.2\n",
    "\n",
    "#scale features\n",
    "data_frame[scale_feature] = [(X - MIN_GS) / (MAX_GS - MIN_GS) for X in data_frame[scale_feature]]\n",
    "\n",
    "data_frame.describe()"
   ]
  },
  {
   "cell_type": "code",
   "execution_count": null,
   "metadata": {},
   "outputs": [
    {
     "data": {
      "application/vnd.microsoft.datawrangler.viewer.v0+json": {
       "columns": [
        {
         "name": "index",
         "rawType": "object",
         "type": "string"
        },
        {
         "name": "Rank",
         "rawType": "float64",
         "type": "float"
        },
        {
         "name": "Year",
         "rawType": "float64",
         "type": "float"
        },
        {
         "name": "NA_Sales",
         "rawType": "float64",
         "type": "float"
        },
        {
         "name": "EU_Sales",
         "rawType": "float64",
         "type": "float"
        },
        {
         "name": "JP_Sales",
         "rawType": "float64",
         "type": "float"
        },
        {
         "name": "Other_Sales",
         "rawType": "float64",
         "type": "float"
        },
        {
         "name": "Global_Sales",
         "rawType": "float64",
         "type": "float"
        }
       ],
       "conversionMethod": "pd.DataFrame",
       "ref": "c850418a-9ffe-4869-841f-7344b8f85f16",
       "rows": [
        [
         "count",
         "9092.0",
         "9092.0",
         "9092.0",
         "9092.0",
         "9092.0",
         "9092.0",
         "9092.0"
        ],
        [
         "mean",
         "11545.108007039154",
         "2006.8817641882974",
         "0.13366256049274086",
         "0.02173669159700836",
         "0.008358996920369555",
         "0.005863396392432908",
         "0.08616824314415604"
        ],
        [
         "std",
         "3223.89136644175",
         "5.187581276979776",
         "0.15821105439740218",
         "0.028975233298865928",
         "0.01720650531361495",
         "0.007104994891314851",
         "0.07911087780229087"
        ],
        [
         "min",
         "3565.0",
         "1980.0",
         "0.0",
         "0.0",
         "0.0",
         "0.0",
         "0.008333333333333333"
        ],
        [
         "25%",
         "9007.75",
         "2004.0",
         "0.0",
         "0.0",
         "0.0",
         "0.0",
         "0.025"
        ],
        [
         "50%",
         "11955.5",
         "2008.0",
         "0.08",
         "0.01",
         "0.0",
         "0.0",
         "0.05833333333333334"
        ],
        [
         "75%",
         "14269.25",
         "2010.0",
         "0.2",
         "0.03",
         "0.01",
         "0.01",
         "0.11666666666666668"
        ],
        [
         "max",
         "16600.0",
         "2020.0",
         "0.8",
         "0.15",
         "0.07",
         "0.02",
         "0.46666666666666673"
        ]
       ],
       "shape": {
        "columns": 7,
        "rows": 8
       }
      },
      "text/html": [
       "<div>\n",
       "<style scoped>\n",
       "    .dataframe tbody tr th:only-of-type {\n",
       "        vertical-align: middle;\n",
       "    }\n",
       "\n",
       "    .dataframe tbody tr th {\n",
       "        vertical-align: top;\n",
       "    }\n",
       "\n",
       "    .dataframe thead th {\n",
       "        text-align: right;\n",
       "    }\n",
       "</style>\n",
       "<table border=\"1\" class=\"dataframe\">\n",
       "  <thead>\n",
       "    <tr style=\"text-align: right;\">\n",
       "      <th></th>\n",
       "      <th>Rank</th>\n",
       "      <th>Year</th>\n",
       "      <th>NA_Sales</th>\n",
       "      <th>EU_Sales</th>\n",
       "      <th>JP_Sales</th>\n",
       "      <th>Other_Sales</th>\n",
       "      <th>Global_Sales</th>\n",
       "    </tr>\n",
       "  </thead>\n",
       "  <tbody>\n",
       "    <tr>\n",
       "      <th>count</th>\n",
       "      <td>9092.000000</td>\n",
       "      <td>9092.000000</td>\n",
       "      <td>9092.000000</td>\n",
       "      <td>9092.000000</td>\n",
       "      <td>9092.000000</td>\n",
       "      <td>9092.000000</td>\n",
       "      <td>9092.000000</td>\n",
       "    </tr>\n",
       "    <tr>\n",
       "      <th>mean</th>\n",
       "      <td>11545.108007</td>\n",
       "      <td>2006.881764</td>\n",
       "      <td>0.133663</td>\n",
       "      <td>0.021737</td>\n",
       "      <td>0.008359</td>\n",
       "      <td>0.005863</td>\n",
       "      <td>0.086168</td>\n",
       "    </tr>\n",
       "    <tr>\n",
       "      <th>std</th>\n",
       "      <td>3223.891366</td>\n",
       "      <td>5.187581</td>\n",
       "      <td>0.158211</td>\n",
       "      <td>0.028975</td>\n",
       "      <td>0.017207</td>\n",
       "      <td>0.007105</td>\n",
       "      <td>0.079111</td>\n",
       "    </tr>\n",
       "    <tr>\n",
       "      <th>min</th>\n",
       "      <td>3565.000000</td>\n",
       "      <td>1980.000000</td>\n",
       "      <td>0.000000</td>\n",
       "      <td>0.000000</td>\n",
       "      <td>0.000000</td>\n",
       "      <td>0.000000</td>\n",
       "      <td>0.008333</td>\n",
       "    </tr>\n",
       "    <tr>\n",
       "      <th>25%</th>\n",
       "      <td>9007.750000</td>\n",
       "      <td>2004.000000</td>\n",
       "      <td>0.000000</td>\n",
       "      <td>0.000000</td>\n",
       "      <td>0.000000</td>\n",
       "      <td>0.000000</td>\n",
       "      <td>0.025000</td>\n",
       "    </tr>\n",
       "    <tr>\n",
       "      <th>50%</th>\n",
       "      <td>11955.500000</td>\n",
       "      <td>2008.000000</td>\n",
       "      <td>0.080000</td>\n",
       "      <td>0.010000</td>\n",
       "      <td>0.000000</td>\n",
       "      <td>0.000000</td>\n",
       "      <td>0.058333</td>\n",
       "    </tr>\n",
       "    <tr>\n",
       "      <th>75%</th>\n",
       "      <td>14269.250000</td>\n",
       "      <td>2010.000000</td>\n",
       "      <td>0.200000</td>\n",
       "      <td>0.030000</td>\n",
       "      <td>0.010000</td>\n",
       "      <td>0.010000</td>\n",
       "      <td>0.116667</td>\n",
       "    </tr>\n",
       "    <tr>\n",
       "      <th>max</th>\n",
       "      <td>16600.000000</td>\n",
       "      <td>2020.000000</td>\n",
       "      <td>0.800000</td>\n",
       "      <td>0.150000</td>\n",
       "      <td>0.070000</td>\n",
       "      <td>0.020000</td>\n",
       "      <td>0.466667</td>\n",
       "    </tr>\n",
       "  </tbody>\n",
       "</table>\n",
       "</div>"
      ],
      "text/plain": [
       "               Rank         Year     NA_Sales     EU_Sales     JP_Sales  \\\n",
       "count   9092.000000  9092.000000  9092.000000  9092.000000  9092.000000   \n",
       "mean   11545.108007  2006.881764     0.133663     0.021737     0.008359   \n",
       "std     3223.891366     5.187581     0.158211     0.028975     0.017207   \n",
       "min     3565.000000  1980.000000     0.000000     0.000000     0.000000   \n",
       "25%     9007.750000  2004.000000     0.000000     0.000000     0.000000   \n",
       "50%    11955.500000  2008.000000     0.080000     0.010000     0.000000   \n",
       "75%    14269.250000  2010.000000     0.200000     0.030000     0.010000   \n",
       "max    16600.000000  2020.000000     0.800000     0.150000     0.070000   \n",
       "\n",
       "       Other_Sales  Global_Sales  \n",
       "count  9092.000000   9092.000000  \n",
       "mean      0.005863      0.086168  \n",
       "std       0.007105      0.079111  \n",
       "min       0.000000      0.008333  \n",
       "25%       0.000000      0.025000  \n",
       "50%       0.000000      0.058333  \n",
       "75%       0.010000      0.116667  \n",
       "max       0.020000      0.466667  "
      ]
     },
     "execution_count": 16,
     "metadata": {},
     "output_type": "execute_result"
    }
   ],
   "source": [
    "scale_feature = 'NA_Sales'\n",
    "\n",
    "#the minimum value with space for outliers\n",
    "MIN_NS = 0\n",
    "\n",
    "#the maximum value with space for outliers\n",
    "MAX_NS = 1.2\n",
    "\n",
    "#scale features\n",
    "data_frame[scale_feature] = [(X - MIN_NS) / (MAX_NS - MIN_NS) for X in data_frame[scale_feature]]\n",
    "\n",
    "data_frame.describe()"
   ]
  },
  {
   "cell_type": "code",
   "execution_count": null,
   "metadata": {},
   "outputs": [
    {
     "data": {
      "application/vnd.microsoft.datawrangler.viewer.v0+json": {
       "columns": [
        {
         "name": "index",
         "rawType": "object",
         "type": "string"
        },
        {
         "name": "Rank",
         "rawType": "float64",
         "type": "float"
        },
        {
         "name": "Year",
         "rawType": "float64",
         "type": "float"
        },
        {
         "name": "NA_Sales",
         "rawType": "float64",
         "type": "float"
        },
        {
         "name": "EU_Sales",
         "rawType": "float64",
         "type": "float"
        },
        {
         "name": "JP_Sales",
         "rawType": "float64",
         "type": "float"
        },
        {
         "name": "Other_Sales",
         "rawType": "float64",
         "type": "float"
        },
        {
         "name": "Global_Sales",
         "rawType": "float64",
         "type": "float"
        }
       ],
       "conversionMethod": "pd.DataFrame",
       "ref": "eebe4685-e03c-46b8-9b09-64270f56a56b",
       "rows": [
        [
         "count",
         "9092.0",
         "9092.0",
         "9092.0",
         "9092.0",
         "9092.0",
         "9092.0",
         "9092.0"
        ],
        [
         "mean",
         "11545.108007039154",
         "2006.8817641882974",
         "0.13366256049274086",
         "0.10868345798504181",
         "0.008358996920369555",
         "0.005863396392432908",
         "0.08616824314415604"
        ],
        [
         "std",
         "3223.89136644175",
         "5.187581276979776",
         "0.15821105439740218",
         "0.14487616649432963",
         "0.01720650531361495",
         "0.007104994891314851",
         "0.07911087780229087"
        ],
        [
         "min",
         "3565.0",
         "1980.0",
         "0.0",
         "0.0",
         "0.0",
         "0.0",
         "0.008333333333333333"
        ],
        [
         "25%",
         "9007.75",
         "2004.0",
         "0.0",
         "0.0",
         "0.0",
         "0.0",
         "0.025"
        ],
        [
         "50%",
         "11955.5",
         "2008.0",
         "0.08",
         "0.049999999999999996",
         "0.0",
         "0.0",
         "0.05833333333333334"
        ],
        [
         "75%",
         "14269.25",
         "2010.0",
         "0.2",
         "0.15",
         "0.01",
         "0.01",
         "0.11666666666666668"
        ],
        [
         "max",
         "16600.0",
         "2020.0",
         "0.8",
         "0.7499999999999999",
         "0.07",
         "0.02",
         "0.46666666666666673"
        ]
       ],
       "shape": {
        "columns": 7,
        "rows": 8
       }
      },
      "text/html": [
       "<div>\n",
       "<style scoped>\n",
       "    .dataframe tbody tr th:only-of-type {\n",
       "        vertical-align: middle;\n",
       "    }\n",
       "\n",
       "    .dataframe tbody tr th {\n",
       "        vertical-align: top;\n",
       "    }\n",
       "\n",
       "    .dataframe thead th {\n",
       "        text-align: right;\n",
       "    }\n",
       "</style>\n",
       "<table border=\"1\" class=\"dataframe\">\n",
       "  <thead>\n",
       "    <tr style=\"text-align: right;\">\n",
       "      <th></th>\n",
       "      <th>Rank</th>\n",
       "      <th>Year</th>\n",
       "      <th>NA_Sales</th>\n",
       "      <th>EU_Sales</th>\n",
       "      <th>JP_Sales</th>\n",
       "      <th>Other_Sales</th>\n",
       "      <th>Global_Sales</th>\n",
       "    </tr>\n",
       "  </thead>\n",
       "  <tbody>\n",
       "    <tr>\n",
       "      <th>count</th>\n",
       "      <td>9092.000000</td>\n",
       "      <td>9092.000000</td>\n",
       "      <td>9092.000000</td>\n",
       "      <td>9092.000000</td>\n",
       "      <td>9092.000000</td>\n",
       "      <td>9092.000000</td>\n",
       "      <td>9092.000000</td>\n",
       "    </tr>\n",
       "    <tr>\n",
       "      <th>mean</th>\n",
       "      <td>11545.108007</td>\n",
       "      <td>2006.881764</td>\n",
       "      <td>0.133663</td>\n",
       "      <td>0.108683</td>\n",
       "      <td>0.008359</td>\n",
       "      <td>0.005863</td>\n",
       "      <td>0.086168</td>\n",
       "    </tr>\n",
       "    <tr>\n",
       "      <th>std</th>\n",
       "      <td>3223.891366</td>\n",
       "      <td>5.187581</td>\n",
       "      <td>0.158211</td>\n",
       "      <td>0.144876</td>\n",
       "      <td>0.017207</td>\n",
       "      <td>0.007105</td>\n",
       "      <td>0.079111</td>\n",
       "    </tr>\n",
       "    <tr>\n",
       "      <th>min</th>\n",
       "      <td>3565.000000</td>\n",
       "      <td>1980.000000</td>\n",
       "      <td>0.000000</td>\n",
       "      <td>0.000000</td>\n",
       "      <td>0.000000</td>\n",
       "      <td>0.000000</td>\n",
       "      <td>0.008333</td>\n",
       "    </tr>\n",
       "    <tr>\n",
       "      <th>25%</th>\n",
       "      <td>9007.750000</td>\n",
       "      <td>2004.000000</td>\n",
       "      <td>0.000000</td>\n",
       "      <td>0.000000</td>\n",
       "      <td>0.000000</td>\n",
       "      <td>0.000000</td>\n",
       "      <td>0.025000</td>\n",
       "    </tr>\n",
       "    <tr>\n",
       "      <th>50%</th>\n",
       "      <td>11955.500000</td>\n",
       "      <td>2008.000000</td>\n",
       "      <td>0.080000</td>\n",
       "      <td>0.050000</td>\n",
       "      <td>0.000000</td>\n",
       "      <td>0.000000</td>\n",
       "      <td>0.058333</td>\n",
       "    </tr>\n",
       "    <tr>\n",
       "      <th>75%</th>\n",
       "      <td>14269.250000</td>\n",
       "      <td>2010.000000</td>\n",
       "      <td>0.200000</td>\n",
       "      <td>0.150000</td>\n",
       "      <td>0.010000</td>\n",
       "      <td>0.010000</td>\n",
       "      <td>0.116667</td>\n",
       "    </tr>\n",
       "    <tr>\n",
       "      <th>max</th>\n",
       "      <td>16600.000000</td>\n",
       "      <td>2020.000000</td>\n",
       "      <td>0.800000</td>\n",
       "      <td>0.750000</td>\n",
       "      <td>0.070000</td>\n",
       "      <td>0.020000</td>\n",
       "      <td>0.466667</td>\n",
       "    </tr>\n",
       "  </tbody>\n",
       "</table>\n",
       "</div>"
      ],
      "text/plain": [
       "               Rank         Year     NA_Sales     EU_Sales     JP_Sales  \\\n",
       "count   9092.000000  9092.000000  9092.000000  9092.000000  9092.000000   \n",
       "mean   11545.108007  2006.881764     0.133663     0.108683     0.008359   \n",
       "std     3223.891366     5.187581     0.158211     0.144876     0.017207   \n",
       "min     3565.000000  1980.000000     0.000000     0.000000     0.000000   \n",
       "25%     9007.750000  2004.000000     0.000000     0.000000     0.000000   \n",
       "50%    11955.500000  2008.000000     0.080000     0.050000     0.000000   \n",
       "75%    14269.250000  2010.000000     0.200000     0.150000     0.010000   \n",
       "max    16600.000000  2020.000000     0.800000     0.750000     0.070000   \n",
       "\n",
       "       Other_Sales  Global_Sales  \n",
       "count  9092.000000   9092.000000  \n",
       "mean      0.005863      0.086168  \n",
       "std       0.007105      0.079111  \n",
       "min       0.000000      0.008333  \n",
       "25%       0.000000      0.025000  \n",
       "50%       0.000000      0.058333  \n",
       "75%       0.010000      0.116667  \n",
       "max       0.020000      0.466667  "
      ]
     },
     "execution_count": 17,
     "metadata": {},
     "output_type": "execute_result"
    }
   ],
   "source": [
    "scale_feature = 'EU_Sales'\n",
    "\n",
    "#the minimum value with space for outliers\n",
    "MIN_ES = 0\n",
    "\n",
    "#the maximum value with space for outliers\n",
    "MAX_ES = 1.2\n",
    "\n",
    "#scale features\n",
    "data_frame[scale_feature] = [(X - MIN_ES) / (MAX_ES - MIN_ES) for X in data_frame[scale_feature]]\n",
    "\n",
    "data_frame.describe()"
   ]
  },
  {
   "cell_type": "code",
   "execution_count": null,
   "metadata": {},
   "outputs": [
    {
     "data": {
      "application/vnd.microsoft.datawrangler.viewer.v0+json": {
       "columns": [
        {
         "name": "index",
         "rawType": "object",
         "type": "string"
        },
        {
         "name": "Rank",
         "rawType": "float64",
         "type": "float"
        },
        {
         "name": "Year",
         "rawType": "float64",
         "type": "float"
        },
        {
         "name": "NA_Sales",
         "rawType": "float64",
         "type": "float"
        },
        {
         "name": "EU_Sales",
         "rawType": "float64",
         "type": "float"
        },
        {
         "name": "JP_Sales",
         "rawType": "float64",
         "type": "float"
        },
        {
         "name": "Other_Sales",
         "rawType": "float64",
         "type": "float"
        },
        {
         "name": "Global_Sales",
         "rawType": "float64",
         "type": "float"
        }
       ],
       "conversionMethod": "pd.DataFrame",
       "ref": "047152cb-3ce7-499e-9c63-56e41586010f",
       "rows": [
        [
         "count",
         "9092.0",
         "9092.0",
         "9092.0",
         "9092.0",
         "9092.0",
         "9092.0",
         "9092.0"
        ],
        [
         "mean",
         "11545.108007039154",
         "2006.8817641882974",
         "0.13366256049274086",
         "0.10868345798504181",
         "0.08358996920369556",
         "0.005863396392432908",
         "0.08616824314415604"
        ],
        [
         "std",
         "3223.89136644175",
         "5.187581276979776",
         "0.15821105439740218",
         "0.14487616649432963",
         "0.17206505313614948",
         "0.007104994891314851",
         "0.07911087780229087"
        ],
        [
         "min",
         "3565.0",
         "1980.0",
         "0.0",
         "0.0",
         "0.0",
         "0.0",
         "0.008333333333333333"
        ],
        [
         "25%",
         "9007.75",
         "2004.0",
         "0.0",
         "0.0",
         "0.0",
         "0.0",
         "0.025"
        ],
        [
         "50%",
         "11955.5",
         "2008.0",
         "0.08",
         "0.049999999999999996",
         "0.0",
         "0.0",
         "0.05833333333333334"
        ],
        [
         "75%",
         "14269.25",
         "2010.0",
         "0.2",
         "0.15",
         "0.09999999999999999",
         "0.01",
         "0.11666666666666668"
        ],
        [
         "max",
         "16600.0",
         "2020.0",
         "0.8",
         "0.7499999999999999",
         "0.7000000000000001",
         "0.02",
         "0.46666666666666673"
        ]
       ],
       "shape": {
        "columns": 7,
        "rows": 8
       }
      },
      "text/html": [
       "<div>\n",
       "<style scoped>\n",
       "    .dataframe tbody tr th:only-of-type {\n",
       "        vertical-align: middle;\n",
       "    }\n",
       "\n",
       "    .dataframe tbody tr th {\n",
       "        vertical-align: top;\n",
       "    }\n",
       "\n",
       "    .dataframe thead th {\n",
       "        text-align: right;\n",
       "    }\n",
       "</style>\n",
       "<table border=\"1\" class=\"dataframe\">\n",
       "  <thead>\n",
       "    <tr style=\"text-align: right;\">\n",
       "      <th></th>\n",
       "      <th>Rank</th>\n",
       "      <th>Year</th>\n",
       "      <th>NA_Sales</th>\n",
       "      <th>EU_Sales</th>\n",
       "      <th>JP_Sales</th>\n",
       "      <th>Other_Sales</th>\n",
       "      <th>Global_Sales</th>\n",
       "    </tr>\n",
       "  </thead>\n",
       "  <tbody>\n",
       "    <tr>\n",
       "      <th>count</th>\n",
       "      <td>9092.000000</td>\n",
       "      <td>9092.000000</td>\n",
       "      <td>9092.000000</td>\n",
       "      <td>9092.000000</td>\n",
       "      <td>9092.000000</td>\n",
       "      <td>9092.000000</td>\n",
       "      <td>9092.000000</td>\n",
       "    </tr>\n",
       "    <tr>\n",
       "      <th>mean</th>\n",
       "      <td>11545.108007</td>\n",
       "      <td>2006.881764</td>\n",
       "      <td>0.133663</td>\n",
       "      <td>0.108683</td>\n",
       "      <td>0.083590</td>\n",
       "      <td>0.005863</td>\n",
       "      <td>0.086168</td>\n",
       "    </tr>\n",
       "    <tr>\n",
       "      <th>std</th>\n",
       "      <td>3223.891366</td>\n",
       "      <td>5.187581</td>\n",
       "      <td>0.158211</td>\n",
       "      <td>0.144876</td>\n",
       "      <td>0.172065</td>\n",
       "      <td>0.007105</td>\n",
       "      <td>0.079111</td>\n",
       "    </tr>\n",
       "    <tr>\n",
       "      <th>min</th>\n",
       "      <td>3565.000000</td>\n",
       "      <td>1980.000000</td>\n",
       "      <td>0.000000</td>\n",
       "      <td>0.000000</td>\n",
       "      <td>0.000000</td>\n",
       "      <td>0.000000</td>\n",
       "      <td>0.008333</td>\n",
       "    </tr>\n",
       "    <tr>\n",
       "      <th>25%</th>\n",
       "      <td>9007.750000</td>\n",
       "      <td>2004.000000</td>\n",
       "      <td>0.000000</td>\n",
       "      <td>0.000000</td>\n",
       "      <td>0.000000</td>\n",
       "      <td>0.000000</td>\n",
       "      <td>0.025000</td>\n",
       "    </tr>\n",
       "    <tr>\n",
       "      <th>50%</th>\n",
       "      <td>11955.500000</td>\n",
       "      <td>2008.000000</td>\n",
       "      <td>0.080000</td>\n",
       "      <td>0.050000</td>\n",
       "      <td>0.000000</td>\n",
       "      <td>0.000000</td>\n",
       "      <td>0.058333</td>\n",
       "    </tr>\n",
       "    <tr>\n",
       "      <th>75%</th>\n",
       "      <td>14269.250000</td>\n",
       "      <td>2010.000000</td>\n",
       "      <td>0.200000</td>\n",
       "      <td>0.150000</td>\n",
       "      <td>0.100000</td>\n",
       "      <td>0.010000</td>\n",
       "      <td>0.116667</td>\n",
       "    </tr>\n",
       "    <tr>\n",
       "      <th>max</th>\n",
       "      <td>16600.000000</td>\n",
       "      <td>2020.000000</td>\n",
       "      <td>0.800000</td>\n",
       "      <td>0.750000</td>\n",
       "      <td>0.700000</td>\n",
       "      <td>0.020000</td>\n",
       "      <td>0.466667</td>\n",
       "    </tr>\n",
       "  </tbody>\n",
       "</table>\n",
       "</div>"
      ],
      "text/plain": [
       "               Rank         Year     NA_Sales     EU_Sales     JP_Sales  \\\n",
       "count   9092.000000  9092.000000  9092.000000  9092.000000  9092.000000   \n",
       "mean   11545.108007  2006.881764     0.133663     0.108683     0.083590   \n",
       "std     3223.891366     5.187581     0.158211     0.144876     0.172065   \n",
       "min     3565.000000  1980.000000     0.000000     0.000000     0.000000   \n",
       "25%     9007.750000  2004.000000     0.000000     0.000000     0.000000   \n",
       "50%    11955.500000  2008.000000     0.080000     0.050000     0.000000   \n",
       "75%    14269.250000  2010.000000     0.200000     0.150000     0.100000   \n",
       "max    16600.000000  2020.000000     0.800000     0.750000     0.700000   \n",
       "\n",
       "       Other_Sales  Global_Sales  \n",
       "count  9092.000000   9092.000000  \n",
       "mean      0.005863      0.086168  \n",
       "std       0.007105      0.079111  \n",
       "min       0.000000      0.008333  \n",
       "25%       0.000000      0.025000  \n",
       "50%       0.000000      0.058333  \n",
       "75%       0.010000      0.116667  \n",
       "max       0.020000      0.466667  "
      ]
     },
     "execution_count": 18,
     "metadata": {},
     "output_type": "execute_result"
    }
   ],
   "source": [
    "scale_feature = 'JP_Sales'\n",
    "\n",
    "#the minimum value with space for outliers\n",
    "MIN_JS = 0\n",
    "\n",
    "#the maximum value with space for outliers\n",
    "MAX_JS = 1.2\n",
    "\n",
    "#scale features\n",
    "data_frame[scale_feature] = [(X - MIN_JS) / (MAX_JS - MIN_JS) for X in data_frame[scale_feature]]\n",
    "\n",
    "data_frame.describe()"
   ]
  },
  {
   "cell_type": "code",
   "execution_count": null,
   "metadata": {},
   "outputs": [
    {
     "data": {
      "application/vnd.microsoft.datawrangler.viewer.v0+json": {
       "columns": [
        {
         "name": "index",
         "rawType": "object",
         "type": "string"
        },
        {
         "name": "Rank",
         "rawType": "float64",
         "type": "float"
        },
        {
         "name": "Year",
         "rawType": "float64",
         "type": "float"
        },
        {
         "name": "NA_Sales",
         "rawType": "float64",
         "type": "float"
        },
        {
         "name": "EU_Sales",
         "rawType": "float64",
         "type": "float"
        },
        {
         "name": "JP_Sales",
         "rawType": "float64",
         "type": "float"
        },
        {
         "name": "Other_Sales",
         "rawType": "float64",
         "type": "float"
        },
        {
         "name": "Global_Sales",
         "rawType": "float64",
         "type": "float"
        }
       ],
       "conversionMethod": "pd.DataFrame",
       "ref": "ede925a5-3999-4688-be75-763da490649b",
       "rows": [
        [
         "count",
         "9092.0",
         "9092.0",
         "9092.0",
         "9092.0",
         "9092.0",
         "9092.0",
         "9092.0"
        ],
        [
         "mean",
         "11545.108007039154",
         "2006.8817641882974",
         "0.13366256049274086",
         "0.10868345798504181",
         "0.08358996920369556",
         "0.11726792784865817",
         "0.08616824314415604"
        ],
        [
         "std",
         "3223.89136644175",
         "5.187581276979776",
         "0.15821105439740218",
         "0.14487616649432963",
         "0.17206505313614948",
         "0.142099897826297",
         "0.07911087780229087"
        ],
        [
         "min",
         "3565.0",
         "1980.0",
         "0.0",
         "0.0",
         "0.0",
         "0.0",
         "0.008333333333333333"
        ],
        [
         "25%",
         "9007.75",
         "2004.0",
         "0.0",
         "0.0",
         "0.0",
         "0.0",
         "0.025"
        ],
        [
         "50%",
         "11955.5",
         "2008.0",
         "0.08",
         "0.049999999999999996",
         "0.0",
         "0.0",
         "0.05833333333333334"
        ],
        [
         "75%",
         "14269.25",
         "2010.0",
         "0.2",
         "0.15",
         "0.09999999999999999",
         "0.19999999999999998",
         "0.11666666666666668"
        ],
        [
         "max",
         "16600.0",
         "2020.0",
         "0.8",
         "0.7499999999999999",
         "0.7000000000000001",
         "0.39999999999999997",
         "0.46666666666666673"
        ]
       ],
       "shape": {
        "columns": 7,
        "rows": 8
       }
      },
      "text/html": [
       "<div>\n",
       "<style scoped>\n",
       "    .dataframe tbody tr th:only-of-type {\n",
       "        vertical-align: middle;\n",
       "    }\n",
       "\n",
       "    .dataframe tbody tr th {\n",
       "        vertical-align: top;\n",
       "    }\n",
       "\n",
       "    .dataframe thead th {\n",
       "        text-align: right;\n",
       "    }\n",
       "</style>\n",
       "<table border=\"1\" class=\"dataframe\">\n",
       "  <thead>\n",
       "    <tr style=\"text-align: right;\">\n",
       "      <th></th>\n",
       "      <th>Rank</th>\n",
       "      <th>Year</th>\n",
       "      <th>NA_Sales</th>\n",
       "      <th>EU_Sales</th>\n",
       "      <th>JP_Sales</th>\n",
       "      <th>Other_Sales</th>\n",
       "      <th>Global_Sales</th>\n",
       "    </tr>\n",
       "  </thead>\n",
       "  <tbody>\n",
       "    <tr>\n",
       "      <th>count</th>\n",
       "      <td>9092.000000</td>\n",
       "      <td>9092.000000</td>\n",
       "      <td>9092.000000</td>\n",
       "      <td>9092.000000</td>\n",
       "      <td>9092.000000</td>\n",
       "      <td>9092.000000</td>\n",
       "      <td>9092.000000</td>\n",
       "    </tr>\n",
       "    <tr>\n",
       "      <th>mean</th>\n",
       "      <td>11545.108007</td>\n",
       "      <td>2006.881764</td>\n",
       "      <td>0.133663</td>\n",
       "      <td>0.108683</td>\n",
       "      <td>0.083590</td>\n",
       "      <td>0.117268</td>\n",
       "      <td>0.086168</td>\n",
       "    </tr>\n",
       "    <tr>\n",
       "      <th>std</th>\n",
       "      <td>3223.891366</td>\n",
       "      <td>5.187581</td>\n",
       "      <td>0.158211</td>\n",
       "      <td>0.144876</td>\n",
       "      <td>0.172065</td>\n",
       "      <td>0.142100</td>\n",
       "      <td>0.079111</td>\n",
       "    </tr>\n",
       "    <tr>\n",
       "      <th>min</th>\n",
       "      <td>3565.000000</td>\n",
       "      <td>1980.000000</td>\n",
       "      <td>0.000000</td>\n",
       "      <td>0.000000</td>\n",
       "      <td>0.000000</td>\n",
       "      <td>0.000000</td>\n",
       "      <td>0.008333</td>\n",
       "    </tr>\n",
       "    <tr>\n",
       "      <th>25%</th>\n",
       "      <td>9007.750000</td>\n",
       "      <td>2004.000000</td>\n",
       "      <td>0.000000</td>\n",
       "      <td>0.000000</td>\n",
       "      <td>0.000000</td>\n",
       "      <td>0.000000</td>\n",
       "      <td>0.025000</td>\n",
       "    </tr>\n",
       "    <tr>\n",
       "      <th>50%</th>\n",
       "      <td>11955.500000</td>\n",
       "      <td>2008.000000</td>\n",
       "      <td>0.080000</td>\n",
       "      <td>0.050000</td>\n",
       "      <td>0.000000</td>\n",
       "      <td>0.000000</td>\n",
       "      <td>0.058333</td>\n",
       "    </tr>\n",
       "    <tr>\n",
       "      <th>75%</th>\n",
       "      <td>14269.250000</td>\n",
       "      <td>2010.000000</td>\n",
       "      <td>0.200000</td>\n",
       "      <td>0.150000</td>\n",
       "      <td>0.100000</td>\n",
       "      <td>0.200000</td>\n",
       "      <td>0.116667</td>\n",
       "    </tr>\n",
       "    <tr>\n",
       "      <th>max</th>\n",
       "      <td>16600.000000</td>\n",
       "      <td>2020.000000</td>\n",
       "      <td>0.800000</td>\n",
       "      <td>0.750000</td>\n",
       "      <td>0.700000</td>\n",
       "      <td>0.400000</td>\n",
       "      <td>0.466667</td>\n",
       "    </tr>\n",
       "  </tbody>\n",
       "</table>\n",
       "</div>"
      ],
      "text/plain": [
       "               Rank         Year     NA_Sales     EU_Sales     JP_Sales  \\\n",
       "count   9092.000000  9092.000000  9092.000000  9092.000000  9092.000000   \n",
       "mean   11545.108007  2006.881764     0.133663     0.108683     0.083590   \n",
       "std     3223.891366     5.187581     0.158211     0.144876     0.172065   \n",
       "min     3565.000000  1980.000000     0.000000     0.000000     0.000000   \n",
       "25%     9007.750000  2004.000000     0.000000     0.000000     0.000000   \n",
       "50%    11955.500000  2008.000000     0.080000     0.050000     0.000000   \n",
       "75%    14269.250000  2010.000000     0.200000     0.150000     0.100000   \n",
       "max    16600.000000  2020.000000     0.800000     0.750000     0.700000   \n",
       "\n",
       "       Other_Sales  Global_Sales  \n",
       "count  9092.000000   9092.000000  \n",
       "mean      0.117268      0.086168  \n",
       "std       0.142100      0.079111  \n",
       "min       0.000000      0.008333  \n",
       "25%       0.000000      0.025000  \n",
       "50%       0.000000      0.058333  \n",
       "75%       0.200000      0.116667  \n",
       "max       0.400000      0.466667  "
      ]
     },
     "execution_count": 19,
     "metadata": {},
     "output_type": "execute_result"
    }
   ],
   "source": [
    "scale_feature = 'Other_Sales'\n",
    "\n",
    "#the minimum value with space for outliers\n",
    "MIN_OS = 0\n",
    "\n",
    "#the maximum value with space for outliers\n",
    "MAX_OS = 1.2\n",
    "\n",
    "#scale features\n",
    "data_frame[scale_feature] = [(X - MIN_OS) / (MAX_OS - MIN_OS) for X in data_frame[scale_feature]]\n",
    "\n",
    "data_frame.describe()"
   ]
  },
  {
   "cell_type": "code",
   "execution_count": null,
   "metadata": {},
   "outputs": [],
   "source": [
    "data_frame.to_csv('../2.Feature_Engineering/wrangled_data.csv', index=False)"
   ]
  }
 ],
 "metadata": {
  "kernelspec": {
   "display_name": "Python 3",
   "language": "python",
   "name": "python3"
  },
  "language_info": {
   "codemirror_mode": {
    "name": "ipython",
    "version": 3
   },
   "file_extension": ".py",
   "mimetype": "text/x-python",
   "name": "python",
   "nbconvert_exporter": "python",
   "pygments_lexer": "ipython3",
   "version": "3.12.1"
  }
 },
 "nbformat": 4,
 "nbformat_minor": 2
}
