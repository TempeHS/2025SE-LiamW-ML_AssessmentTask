{
  "cells": [
    {
      "cell_type": "markdown",
      "metadata": {},
      "source": [
        "# Feature Engineering\n",
        "\n",
        "This will contain the use of many data engineering processes to maximise the model's performance.\n",
        "\n",
        "#### Feature Engineering Process\n",
        "- Deriving new variables from existing ones\n",
        "- Encoding categorical features\n",
        "- Calculating new features from existing features\n",
        "- Combining features/feature interactions\n",
        "- Identifying the most relevant features for the model\n",
        "- Transforming Features(Dividing Data into categories, Mathematical transformations, Logarithmic transformations)\n",
        "- Creating Domain-Specific Features that incorporating knowledge from the specific domain to create features that capture important characteristics of the data."
      ]
    },
    {
      "cell_type": "markdown",
      "metadata": {},
      "source": [
        "Loading Dependencies"
      ]
    },
    {
      "cell_type": "code",
      "execution_count": 1,
      "metadata": {},
      "outputs": [],
      "source": [
        "import pandas as pd"
      ]
    },
    {
      "cell_type": "markdown",
      "metadata": {},
      "source": [
        "Storing Data as local variable (pandas object)"
      ]
    },
    {
      "cell_type": "code",
      "execution_count": 2,
      "metadata": {},
      "outputs": [],
      "source": [
        "\n",
        "data_frame = pd.read_csv(\"wrangled_data2.csv\")"
      ]
    },
    {
      "cell_type": "markdown",
      "metadata": {},
      "source": [
        "#### Deriving new variables from existing ones"
      ]
    },
    {
      "cell_type": "markdown",
      "metadata": {},
      "source": [
        "##### Encoding Categorical Data\n",
        "\n",
        "Converts textual data into numerical format for input into the algorithm's processes. This is due to most machine learning algorithms using numerical values rather than text."
      ]
    },
    {
      "cell_type": "markdown",
      "metadata": {},
      "source": [
        "For Genre the best encoding method would be one-hot encoding which generated new boolean columns that shows if the data is has that category with each column being one of the genres in the original data."
      ]
    },
    {
      "cell_type": "code",
      "execution_count": 3,
      "metadata": {},
      "outputs": [
        {
          "data": {
            "application/vnd.microsoft.datawrangler.viewer.v0+json": {
              "columns": [
                {
                  "name": "index",
                  "rawType": "int64",
                  "type": "integer"
                },
                {
                  "name": "Rank",
                  "rawType": "int64",
                  "type": "integer"
                },
                {
                  "name": "Name",
                  "rawType": "object",
                  "type": "string"
                },
                {
                  "name": "Platform",
                  "rawType": "object",
                  "type": "string"
                },
                {
                  "name": "Year",
                  "rawType": "float64",
                  "type": "float"
                },
                {
                  "name": "Publisher",
                  "rawType": "object",
                  "type": "string"
                },
                {
                  "name": "NA_Sales",
                  "rawType": "float64",
                  "type": "float"
                },
                {
                  "name": "EU_Sales",
                  "rawType": "float64",
                  "type": "float"
                },
                {
                  "name": "JP_Sales",
                  "rawType": "float64",
                  "type": "float"
                },
                {
                  "name": "Other_Sales",
                  "rawType": "float64",
                  "type": "float"
                },
                {
                  "name": "Global_Sales",
                  "rawType": "float64",
                  "type": "float"
                },
                {
                  "name": "Genre_Action",
                  "rawType": "bool",
                  "type": "boolean"
                },
                {
                  "name": "Genre_Adventure",
                  "rawType": "bool",
                  "type": "boolean"
                },
                {
                  "name": "Genre_Fighting",
                  "rawType": "bool",
                  "type": "boolean"
                },
                {
                  "name": "Genre_Misc",
                  "rawType": "bool",
                  "type": "boolean"
                },
                {
                  "name": "Genre_Platform",
                  "rawType": "bool",
                  "type": "boolean"
                },
                {
                  "name": "Genre_Puzzle",
                  "rawType": "bool",
                  "type": "boolean"
                },
                {
                  "name": "Genre_Racing",
                  "rawType": "bool",
                  "type": "boolean"
                },
                {
                  "name": "Genre_Role-Playing",
                  "rawType": "bool",
                  "type": "boolean"
                },
                {
                  "name": "Genre_Shooter",
                  "rawType": "bool",
                  "type": "boolean"
                },
                {
                  "name": "Genre_Simulation",
                  "rawType": "bool",
                  "type": "boolean"
                },
                {
                  "name": "Genre_Sports",
                  "rawType": "bool",
                  "type": "boolean"
                },
                {
                  "name": "Genre_Strategy",
                  "rawType": "bool",
                  "type": "boolean"
                }
              ],
              "conversionMethod": "pd.DataFrame",
              "ref": "c9ab68db-2795-4464-a5e8-2feb095fa0df",
              "rows": [
                [
                  "0",
                  "3565",
                  "The Incredible Hulk",
                  "GBA",
                  "2003.0",
                  "Universal Interactive",
                  "0.8",
                  "0.7499999999999999",
                  "0.0",
                  "0.1999999999999999",
                  "0.4666666666666667",
                  "True",
                  "False",
                  "False",
                  "False",
                  "False",
                  "False",
                  "False",
                  "False",
                  "False",
                  "False",
                  "False",
                  "False"
                ],
                [
                  "1",
                  "3566",
                  "Ms. Pac-Man Maze Madness",
                  "GBA",
                  "2004.0",
                  "Zoo Digital Publishing",
                  "0.8",
                  "0.7499999999999999",
                  "0.0",
                  "0.1999999999999999",
                  "0.4666666666666667",
                  "False",
                  "False",
                  "False",
                  "False",
                  "False",
                  "True",
                  "False",
                  "False",
                  "False",
                  "False",
                  "False",
                  "False"
                ],
                [
                  "2",
                  "3568",
                  "The Lord of the Rings: The Return of the King",
                  "GBA",
                  "2003.0",
                  "Electronic Arts",
                  "0.8",
                  "0.7499999999999999",
                  "0.0",
                  "0.1999999999999999",
                  "0.4666666666666667",
                  "True",
                  "False",
                  "False",
                  "False",
                  "False",
                  "False",
                  "False",
                  "False",
                  "False",
                  "False",
                  "False",
                  "False"
                ],
                [
                  "3",
                  "3571",
                  "The Sims: Bustin' Out",
                  "XB",
                  "2003.0",
                  "Electronic Arts",
                  "0.8",
                  "0.7000000000000001",
                  "0.0",
                  "0.3999999999999999",
                  "0.4666666666666667",
                  "False",
                  "False",
                  "False",
                  "False",
                  "False",
                  "False",
                  "False",
                  "False",
                  "False",
                  "True",
                  "False",
                  "False"
                ],
                [
                  "4",
                  "3576",
                  "Yu-Gi-Oh! World Championship Tournament 2004",
                  "GBA",
                  "2004.0",
                  "Konami Digital Entertainment",
                  "0.8",
                  "0.7499999999999999",
                  "0.0",
                  "0.1999999999999999",
                  "0.4666666666666667",
                  "False",
                  "False",
                  "False",
                  "True",
                  "False",
                  "False",
                  "False",
                  "False",
                  "False",
                  "False",
                  "False",
                  "False"
                ]
              ],
              "shape": {
                "columns": 22,
                "rows": 5
              }
            },
            "text/html": [
              "<div>\n",
              "<style scoped>\n",
              "    .dataframe tbody tr th:only-of-type {\n",
              "        vertical-align: middle;\n",
              "    }\n",
              "\n",
              "    .dataframe tbody tr th {\n",
              "        vertical-align: top;\n",
              "    }\n",
              "\n",
              "    .dataframe thead th {\n",
              "        text-align: right;\n",
              "    }\n",
              "</style>\n",
              "<table border=\"1\" class=\"dataframe\">\n",
              "  <thead>\n",
              "    <tr style=\"text-align: right;\">\n",
              "      <th></th>\n",
              "      <th>Rank</th>\n",
              "      <th>Name</th>\n",
              "      <th>Platform</th>\n",
              "      <th>Year</th>\n",
              "      <th>Publisher</th>\n",
              "      <th>NA_Sales</th>\n",
              "      <th>EU_Sales</th>\n",
              "      <th>JP_Sales</th>\n",
              "      <th>Other_Sales</th>\n",
              "      <th>Global_Sales</th>\n",
              "      <th>...</th>\n",
              "      <th>Genre_Fighting</th>\n",
              "      <th>Genre_Misc</th>\n",
              "      <th>Genre_Platform</th>\n",
              "      <th>Genre_Puzzle</th>\n",
              "      <th>Genre_Racing</th>\n",
              "      <th>Genre_Role-Playing</th>\n",
              "      <th>Genre_Shooter</th>\n",
              "      <th>Genre_Simulation</th>\n",
              "      <th>Genre_Sports</th>\n",
              "      <th>Genre_Strategy</th>\n",
              "    </tr>\n",
              "  </thead>\n",
              "  <tbody>\n",
              "    <tr>\n",
              "      <th>0</th>\n",
              "      <td>3565</td>\n",
              "      <td>The Incredible Hulk</td>\n",
              "      <td>GBA</td>\n",
              "      <td>2003.0</td>\n",
              "      <td>Universal Interactive</td>\n",
              "      <td>0.8</td>\n",
              "      <td>0.75</td>\n",
              "      <td>0.0</td>\n",
              "      <td>0.2</td>\n",
              "      <td>0.466667</td>\n",
              "      <td>...</td>\n",
              "      <td>False</td>\n",
              "      <td>False</td>\n",
              "      <td>False</td>\n",
              "      <td>False</td>\n",
              "      <td>False</td>\n",
              "      <td>False</td>\n",
              "      <td>False</td>\n",
              "      <td>False</td>\n",
              "      <td>False</td>\n",
              "      <td>False</td>\n",
              "    </tr>\n",
              "    <tr>\n",
              "      <th>1</th>\n",
              "      <td>3566</td>\n",
              "      <td>Ms. Pac-Man Maze Madness</td>\n",
              "      <td>GBA</td>\n",
              "      <td>2004.0</td>\n",
              "      <td>Zoo Digital Publishing</td>\n",
              "      <td>0.8</td>\n",
              "      <td>0.75</td>\n",
              "      <td>0.0</td>\n",
              "      <td>0.2</td>\n",
              "      <td>0.466667</td>\n",
              "      <td>...</td>\n",
              "      <td>False</td>\n",
              "      <td>False</td>\n",
              "      <td>False</td>\n",
              "      <td>True</td>\n",
              "      <td>False</td>\n",
              "      <td>False</td>\n",
              "      <td>False</td>\n",
              "      <td>False</td>\n",
              "      <td>False</td>\n",
              "      <td>False</td>\n",
              "    </tr>\n",
              "    <tr>\n",
              "      <th>2</th>\n",
              "      <td>3568</td>\n",
              "      <td>The Lord of the Rings: The Return of the King</td>\n",
              "      <td>GBA</td>\n",
              "      <td>2003.0</td>\n",
              "      <td>Electronic Arts</td>\n",
              "      <td>0.8</td>\n",
              "      <td>0.75</td>\n",
              "      <td>0.0</td>\n",
              "      <td>0.2</td>\n",
              "      <td>0.466667</td>\n",
              "      <td>...</td>\n",
              "      <td>False</td>\n",
              "      <td>False</td>\n",
              "      <td>False</td>\n",
              "      <td>False</td>\n",
              "      <td>False</td>\n",
              "      <td>False</td>\n",
              "      <td>False</td>\n",
              "      <td>False</td>\n",
              "      <td>False</td>\n",
              "      <td>False</td>\n",
              "    </tr>\n",
              "    <tr>\n",
              "      <th>3</th>\n",
              "      <td>3571</td>\n",
              "      <td>The Sims: Bustin' Out</td>\n",
              "      <td>XB</td>\n",
              "      <td>2003.0</td>\n",
              "      <td>Electronic Arts</td>\n",
              "      <td>0.8</td>\n",
              "      <td>0.70</td>\n",
              "      <td>0.0</td>\n",
              "      <td>0.4</td>\n",
              "      <td>0.466667</td>\n",
              "      <td>...</td>\n",
              "      <td>False</td>\n",
              "      <td>False</td>\n",
              "      <td>False</td>\n",
              "      <td>False</td>\n",
              "      <td>False</td>\n",
              "      <td>False</td>\n",
              "      <td>False</td>\n",
              "      <td>True</td>\n",
              "      <td>False</td>\n",
              "      <td>False</td>\n",
              "    </tr>\n",
              "    <tr>\n",
              "      <th>4</th>\n",
              "      <td>3576</td>\n",
              "      <td>Yu-Gi-Oh! World Championship Tournament 2004</td>\n",
              "      <td>GBA</td>\n",
              "      <td>2004.0</td>\n",
              "      <td>Konami Digital Entertainment</td>\n",
              "      <td>0.8</td>\n",
              "      <td>0.75</td>\n",
              "      <td>0.0</td>\n",
              "      <td>0.2</td>\n",
              "      <td>0.466667</td>\n",
              "      <td>...</td>\n",
              "      <td>False</td>\n",
              "      <td>True</td>\n",
              "      <td>False</td>\n",
              "      <td>False</td>\n",
              "      <td>False</td>\n",
              "      <td>False</td>\n",
              "      <td>False</td>\n",
              "      <td>False</td>\n",
              "      <td>False</td>\n",
              "      <td>False</td>\n",
              "    </tr>\n",
              "  </tbody>\n",
              "</table>\n",
              "<p>5 rows × 22 columns</p>\n",
              "</div>"
            ],
            "text/plain": [
              "   Rank                                           Name Platform    Year  \\\n",
              "0  3565                            The Incredible Hulk      GBA  2003.0   \n",
              "1  3566                       Ms. Pac-Man Maze Madness      GBA  2004.0   \n",
              "2  3568  The Lord of the Rings: The Return of the King      GBA  2003.0   \n",
              "3  3571                          The Sims: Bustin' Out       XB  2003.0   \n",
              "4  3576   Yu-Gi-Oh! World Championship Tournament 2004      GBA  2004.0   \n",
              "\n",
              "                      Publisher  NA_Sales  EU_Sales  JP_Sales  Other_Sales  \\\n",
              "0         Universal Interactive       0.8      0.75       0.0          0.2   \n",
              "1        Zoo Digital Publishing       0.8      0.75       0.0          0.2   \n",
              "2               Electronic Arts       0.8      0.75       0.0          0.2   \n",
              "3               Electronic Arts       0.8      0.70       0.0          0.4   \n",
              "4  Konami Digital Entertainment       0.8      0.75       0.0          0.2   \n",
              "\n",
              "   Global_Sales  ...  Genre_Fighting  Genre_Misc  Genre_Platform  \\\n",
              "0      0.466667  ...           False       False           False   \n",
              "1      0.466667  ...           False       False           False   \n",
              "2      0.466667  ...           False       False           False   \n",
              "3      0.466667  ...           False       False           False   \n",
              "4      0.466667  ...           False        True           False   \n",
              "\n",
              "   Genre_Puzzle  Genre_Racing  Genre_Role-Playing  Genre_Shooter  \\\n",
              "0         False         False               False          False   \n",
              "1          True         False               False          False   \n",
              "2         False         False               False          False   \n",
              "3         False         False               False          False   \n",
              "4         False         False               False          False   \n",
              "\n",
              "   Genre_Simulation  Genre_Sports  Genre_Strategy  \n",
              "0             False         False           False  \n",
              "1             False         False           False  \n",
              "2             False         False           False  \n",
              "3              True         False           False  \n",
              "4             False         False           False  \n",
              "\n",
              "[5 rows x 22 columns]"
            ]
          },
          "execution_count": 3,
          "metadata": {},
          "output_type": "execute_result"
        }
      ],
      "source": [
        "data_frame = pd.get_dummies(data_frame, columns=['Genre'])\n",
        "data_frame.head()"
      ]
    },
    {
      "cell_type": "markdown",
      "metadata": {},
      "source": [
        "\n",
        "#### Combining features/feature interactions"
      ]
    },
    {
      "cell_type": "markdown",
      "metadata": {},
      "source": [
        "Interactions between feature often carry even more information. This section will be for feature interaction engineering where one feature will represent the interaction of multiple."
      ]
    },
    {
      "cell_type": "code",
      "execution_count": null,
      "metadata": {},
      "outputs": [],
      "source": []
    },
    {
      "cell_type": "markdown",
      "metadata": {},
      "source": [
        "\n",
        "#### Transforming Features"
      ]
    },
    {
      "cell_type": "markdown",
      "metadata": {},
      "source": [
        "This section is where to put any filters on certain features especially for working on specific subset that would effect the data"
      ]
    },
    {
      "cell_type": "code",
      "execution_count": null,
      "metadata": {},
      "outputs": [],
      "source": []
    },
    {
      "cell_type": "markdown",
      "metadata": {},
      "source": [
        "\n",
        "#### Creating Domain-Specific Features"
      ]
    },
    {
      "cell_type": "markdown",
      "metadata": {},
      "source": [
        "This is where the knowledge into the data set's field will allow for the creation of new features that are tailor to that field from other features."
      ]
    },
    {
      "cell_type": "markdown",
      "metadata": {},
      "source": [
        "The gaming space has different weighting in terms of popularity in regions. This model is for a prediction on global/general performance and weighing each country by their copies sold would naturally disadvantage the regions with smaller market sizes."
      ]
    },
    {
      "cell_type": "markdown",
      "metadata": {},
      "source": [
        "This allows the creation of a \"popularity\" column where the number copies sold will be put over the size of the target market in that space to see how well it performed within its region. By then combining these columns into an average, it will give a numerical value, as a percentage, to how well the product performed."
      ]
    },
    {
      "cell_type": "markdown",
      "metadata": {},
      "source": [
        "Target of market (people who play games) of each region is take from https://explodingtopics.com/blog/number-of-gamers and uses in the modern data (2025), is scaled to 1.2 to match the scaling of the data, and the base number is scaled to a the number of gamers in 2016 "
      ]
    },
    {
      "cell_type": "markdown",
      "metadata": {},
      "source": [
        "2.17 billion in 2016 and 3.32 billion in 2025"
      ]
    },
    {
      "cell_type": "markdown",
      "metadata": {},
      "source": [
        "2025 stats\n",
        "- Japan 55.5 million\n",
        "- Europe\t715 million\n",
        "- North America\t285 million\n",
        "- Other\t2188.5 million"
      ]
    },
    {
      "cell_type": "markdown",
      "metadata": {},
      "source": [
        "2016 stats (scaled from 2025)\n",
        "\n",
        "- Japan 36.276 million\n",
        "- Europe 467.334 million\n",
        "- North America 186.280 million\n",
        "- Other 1430.435 million"
      ]
    },
    {
      "cell_type": "markdown",
      "metadata": {},
      "source": [
        "2016 stats (scaled to 1.2) might not be appliedd\n",
        "\n",
        "- Japan 30.23 million\n",
        "- Europe 389.445 million\n",
        "- North America 155.233 million\n",
        "- Other 1192.029 million"
      ]
    },
    {
      "cell_type": "code",
      "execution_count": 4,
      "metadata": {},
      "outputs": [
        {
          "name": "stdout",
          "output_type": "stream",
          "text": [
            "0       0.485245\n",
            "1       0.485245\n",
            "2       0.485245\n",
            "3       0.541780\n",
            "4       0.485245\n",
            "          ...   \n",
            "9087    0.005368\n",
            "9088    0.005368\n",
            "9089    0.000000\n",
            "9090    0.013374\n",
            "9091    0.005368\n",
            "Name: popularity, Length: 9092, dtype: float64\n"
          ]
        }
      ],
      "source": [
        "data_frame['popularity'] = 100 * (((data_frame['NA_Sales']/0.5)/186.28 + (data_frame['EU_Sales']/0.2) / 467.334 + (data_frame['JP_Sales']/0.1) / 36.276 + (data_frame['Other_Sales']/0.05) /1430.435) / 4 )\n",
        "print(data_frame['popularity'])"
      ]
    },
    {
      "cell_type": "markdown",
      "metadata": {},
      "source": [
        "saving data "
      ]
    },
    {
      "cell_type": "code",
      "execution_count": 6,
      "metadata": {},
      "outputs": [],
      "source": [
        "data_frame.to_csv('../3.Model_Training/model_ready_data2.csv', index=False)"
      ]
    }
  ],
  "metadata": {
    "kernelspec": {
      "display_name": "Python 3",
      "language": "python",
      "name": "python3"
    },
    "language_info": {
      "codemirror_mode": {
        "name": "ipython",
        "version": 3
      },
      "file_extension": ".py",
      "mimetype": "text/x-python",
      "name": "python",
      "nbconvert_exporter": "python",
      "pygments_lexer": "ipython3",
      "version": "3.12.1"
    }
  },
  "nbformat": 4,
  "nbformat_minor": 2
}
